{
 "metadata": {
  "name": "",
  "signature": "sha256:13e061723965a45df6deeaa449bd2c256aa0089d70a4b4b317d85f06135d9758"
 },
 "nbformat": 3,
 "nbformat_minor": 0,
 "worksheets": [
  {
   "cells": [
    {
     "cell_type": "heading",
     "level": 1,
     "metadata": {},
     "source": [
      "PyMB Example"
     ]
    },
    {
     "cell_type": "heading",
     "level": 3,
     "metadata": {},
     "source": [
      "Import Module"
     ]
    },
    {
     "cell_type": "code",
     "collapsed": false,
     "input": [
      "import sys\n",
      "sys.path.append('../..')\n",
      "import PyMB"
     ],
     "language": "python",
     "metadata": {},
     "outputs": [],
     "prompt_number": 1
    },
    {
     "cell_type": "heading",
     "level": 3,
     "metadata": {},
     "source": [
      "Create a new model"
     ]
    },
    {
     "cell_type": "code",
     "collapsed": false,
     "input": [
      "m = PyMB.model(name='linreg')"
     ],
     "language": "python",
     "metadata": {},
     "outputs": [],
     "prompt_number": 2
    },
    {
     "cell_type": "heading",
     "level": 3,
     "metadata": {},
     "source": [
      "Define the model"
     ]
    },
    {
     "cell_type": "markdown",
     "metadata": {},
     "source": [
      "$$ Y \\sim \\mathcal{N}(\\hat{Y},\\sigma) $$\n",
      "$$ \\hat{Y} = \\alpha + B x $$"
     ]
    },
    {
     "cell_type": "markdown",
     "metadata": {},
     "source": [
      "Based on [https://github.com/kaskr/adcomp/blob/master/tmb_examples/linreg.cpp](https://github.com/kaskr/adcomp/blob/master/tmb_examples/linreg.cpp)"
     ]
    },
    {
     "cell_type": "markdown",
     "metadata": {},
     "source": [
      "See [the TMB tutorial](https://github.com/kaskr/adcomp/wiki/Tutorial#writing-the-c-function) for more information on writing custom models"
     ]
    },
    {
     "cell_type": "code",
     "collapsed": false,
     "input": [
      "linreg_code = '''\n",
      "#include <TMB.hpp>\n",
      "template<class Type>\n",
      "Type objective_function<Type>::operator() (){\n",
      "// DATA\n",
      "  DATA_VECTOR(Y);\n",
      "  DATA_VECTOR(x);\n",
      "\n",
      "// PARAMETERS\n",
      "  PARAMETER(alpha);\n",
      "  PARAMETER(Beta);\n",
      "  PARAMETER(logSigma);\n",
      "\n",
      "// MODEL\n",
      "  vector<Type> Y_hat = alpha + Beta*x;\n",
      "  REPORT(Y_hat);\n",
      "  Type nll = -sum(dnorm(Y, Y_hat, exp(logSigma), true));\n",
      "  return nll;\n",
      "}\n",
      "'''"
     ],
     "language": "python",
     "metadata": {},
     "outputs": [],
     "prompt_number": 3
    },
    {
     "cell_type": "heading",
     "level": 3,
     "metadata": {},
     "source": [
      "Compile"
     ]
    },
    {
     "cell_type": "markdown",
     "metadata": {},
     "source": [
      "See additional compiler options such as setting the R and TMB library directories via `help(PyMB.model.compile)`"
     ]
    },
    {
     "cell_type": "code",
     "collapsed": false,
     "input": [
      "m.compile(codestr=linreg_code)"
     ],
     "language": "python",
     "metadata": {},
     "outputs": [
      {
       "output_type": "stream",
       "stream": "stdout",
       "text": [
        "Saving model to tmb_tmp/linreg.cpp.\n",
        "Compiled in 24.3s.\n"
       ]
      },
      {
       "output_type": "stream",
       "stream": "stdout",
       "text": [
        "\n"
       ]
      }
     ],
     "prompt_number": 4
    },
    {
     "cell_type": "heading",
     "level": 3,
     "metadata": {},
     "source": [
      "Simulate data"
     ]
    },
    {
     "cell_type": "code",
     "collapsed": false,
     "input": [
      "import numpy as np\n",
      "m.data['x'] = np.arange(10)\n",
      "m.data['Y'] = m.data['x'] + 0.5 + np.random.rand(10)"
     ],
     "language": "python",
     "metadata": {},
     "outputs": [],
     "prompt_number": 5
    },
    {
     "cell_type": "heading",
     "level": 3,
     "metadata": {},
     "source": [
      "Set initial parameter values"
     ]
    },
    {
     "cell_type": "code",
     "collapsed": false,
     "input": [
      "m.init['alpha'] = 0.\n",
      "m.init['Beta'] = 0.\n",
      "m.init['logSigma'] = 0."
     ],
     "language": "python",
     "metadata": {},
     "outputs": [],
     "prompt_number": 6
    },
    {
     "cell_type": "heading",
     "level": 3,
     "metadata": {},
     "source": [
      "Set random parameters"
     ]
    },
    {
     "cell_type": "markdown",
     "metadata": {},
     "source": [
      "The model likelihood will be integrated wrt the random parameters. See [here](https://github.com/kaskr/adcomp/wiki/Tutorial#integrated-likelihood) for more information."
     ]
    },
    {
     "cell_type": "code",
     "collapsed": false,
     "input": [
      "m.random = ['alpha', 'Beta']"
     ],
     "language": "python",
     "metadata": {},
     "outputs": [],
     "prompt_number": 7
    },
    {
     "cell_type": "heading",
     "level": 3,
     "metadata": {},
     "source": [
      "Fit the model"
     ]
    },
    {
     "cell_type": "code",
     "collapsed": false,
     "input": [
      "m.optimize()"
     ],
     "language": "python",
     "metadata": {},
     "outputs": [
      {
       "output_type": "stream",
       "stream": "stdout",
       "text": [
        "Matching hessian patterns... Done\n",
        "\n",
        "Model optimization complete in 0.1s.\n",
        "\n",
        "\n",
        "--------------------------------------------------------------------------------\n",
        "\n",
        "\n",
        "Simulated 100 draws in 0.2s.\n"
       ]
      },
      {
       "output_type": "stream",
       "stream": "stdout",
       "text": [
        "\n",
        "alpha:\n",
        "\tmean\t[ 1.20647766]\n",
        "\tsd\t[ 0.12282757]\n",
        "\tdraws\t[[ 1.12340849  1.42198335 ...,  1.25513521  1.38185193]]\n",
        "\tshape\t(1, 100)\n",
        "Beta:\n",
        "\tmean\t[ 0.94143064]\n",
        "\tsd\t[ 0.02300771]\n",
        "\tdraws\t[[ 0.96776205  0.90909791 ...,  0.92343494  0.89284158]]\n",
        "\tshape\t(1, 100)\n"
       ]
      }
     ],
     "prompt_number": 8
    },
    {
     "cell_type": "heading",
     "level": 3,
     "metadata": {},
     "source": [
      "Extract fitted values"
     ]
    },
    {
     "cell_type": "code",
     "collapsed": false,
     "input": [
      "print(m.report('Y_hat'))"
     ],
     "language": "python",
     "metadata": {},
     "outputs": [
      {
       "output_type": "stream",
       "stream": "stdout",
       "text": [
        "[ 1.20647766  2.14790831  3.08933895  4.0307696   4.97220024  5.91363089\n",
        "  6.85506153  7.79649218  8.73792282  9.67935346]\n"
       ]
      }
     ],
     "prompt_number": 9
    },
    {
     "cell_type": "heading",
     "level": 3,
     "metadata": {},
     "source": [
      "Examine joint density"
     ]
    },
    {
     "cell_type": "code",
     "collapsed": false,
     "input": [
      "%matplotlib inline\n",
      "import matplotlib.pyplot as plt\n",
      "import seaborn as sns\n",
      "import pandas as pd\n",
      "df = pd.DataFrame({ k: v['draws'][0] for k,v in m.parameters.iteritems() })\n",
      "g = sns.PairGrid(df, diag_sharey=False)\n",
      "g.map_lower(sns.kdeplot, cmap='Blues_d')\n",
      "g.map_upper(plt.scatter)\n",
      "g.map_diag(sns.kdeplot, lw=3)"
     ],
     "language": "python",
     "metadata": {},
     "outputs": [
      {
       "output_type": "stream",
       "stream": "stderr",
       "text": [
        "/usr/bin/anaconda/lib/python2.7/site-packages/matplotlib/axes/_axes.py:476: UserWarning: No labelled objects found. Use label='...' kwarg on individual plots.\n",
        "  warnings.warn(\"No labelled objects found. \"\n"
       ]
      },
      {
       "metadata": {},
       "output_type": "display_data",
       "png": "[encoded data removed]",
       "text": [
        "<matplotlib.figure.Figure at 0x7f01322cf890>"
       ]
      }
     ],
     "prompt_number": 10
    }
   ],
   "metadata": {}
  }
 ]
}
