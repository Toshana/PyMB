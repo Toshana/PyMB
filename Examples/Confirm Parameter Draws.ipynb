{
 "metadata": {
  "name": "",
  "signature": "sha256:cb91c9bb6af9aca145abb071600e74a2316838f5253d720edbd5d13aa6df2658"
 },
 "nbformat": 3,
 "nbformat_minor": 0,
 "worksheets": [
  {
   "cells": [
    {
     "cell_type": "heading",
     "level": 1,
     "metadata": {},
     "source": [
      "Confirm that drawing parameters in Python matches those in R"
     ]
    },
    {
     "cell_type": "heading",
     "level": 3,
     "metadata": {},
     "source": [
      "Import Module"
     ]
    },
    {
     "cell_type": "code",
     "collapsed": false,
     "input": [
      "import sys\n",
      "sys.path.append('../..')\n",
      "import PyMB"
     ],
     "language": "python",
     "metadata": {},
     "outputs": [],
     "prompt_number": 1
    },
    {
     "cell_type": "heading",
     "level": 3,
     "metadata": {},
     "source": [
      "Create a new model"
     ]
    },
    {
     "cell_type": "code",
     "collapsed": false,
     "input": [
      "m = PyMB.model(name='linreg')"
     ],
     "language": "python",
     "metadata": {},
     "outputs": [],
     "prompt_number": 2
    },
    {
     "cell_type": "heading",
     "level": 3,
     "metadata": {},
     "source": [
      "Define the model"
     ]
    },
    {
     "cell_type": "markdown",
     "metadata": {},
     "source": [
      "$$ Y \\sim \\mathcal{N}(\\hat{Y},\\sigma) $$\n",
      "$$ \\hat{Y} = \\alpha + B x $$"
     ]
    },
    {
     "cell_type": "markdown",
     "metadata": {},
     "source": [
      "Based on [https://github.com/kaskr/adcomp/blob/master/tmb_examples/linreg.cpp](https://github.com/kaskr/adcomp/blob/master/tmb_examples/linreg.cpp)"
     ]
    },
    {
     "cell_type": "markdown",
     "metadata": {},
     "source": [
      "See [the TMB tutorial](https://github.com/kaskr/adcomp/wiki/Tutorial#writing-the-c-function) for more information on writing custom models"
     ]
    },
    {
     "cell_type": "code",
     "collapsed": false,
     "input": [
      "linreg_code = '''\n",
      "#include <TMB.hpp>\n",
      "template<class Type>\n",
      "Type objective_function<Type>::operator() (){\n",
      "// DATA\n",
      "  DATA_VECTOR(Y);\n",
      "  DATA_VECTOR(x);\n",
      "\n",
      "// PARAMETERS\n",
      "  PARAMETER(alpha);\n",
      "  PARAMETER(Beta);\n",
      "  PARAMETER(logSigma);\n",
      "\n",
      "// MODEL\n",
      "  vector<Type> Y_hat = alpha + Beta*x;\n",
      "  REPORT(Y_hat);\n",
      "  Type nll = -sum(dnorm(Y, Y_hat, exp(logSigma), true));\n",
      "  return nll;\n",
      "}\n",
      "'''"
     ],
     "language": "python",
     "metadata": {},
     "outputs": [],
     "prompt_number": 3
    },
    {
     "cell_type": "heading",
     "level": 3,
     "metadata": {},
     "source": [
      "Compile"
     ]
    },
    {
     "cell_type": "markdown",
     "metadata": {},
     "source": [
      "See additional compiler options such as setting the R and TMB library directories via `help(PyMB.model.compile)`"
     ]
    },
    {
     "cell_type": "code",
     "collapsed": false,
     "input": [
      "m.compile(codestr=linreg_code)"
     ],
     "language": "python",
     "metadata": {},
     "outputs": [
      {
       "output_type": "stream",
       "stream": "stdout",
       "text": [
        "Using tmb_tmp/linreg.cpp.\n",
        "Compiled in 24.2s.\n"
       ]
      },
      {
       "output_type": "stream",
       "stream": "stdout",
       "text": [
        "\n"
       ]
      }
     ],
     "prompt_number": 4
    },
    {
     "cell_type": "heading",
     "level": 3,
     "metadata": {},
     "source": [
      "Simulate data"
     ]
    },
    {
     "cell_type": "code",
     "collapsed": false,
     "input": [
      "import numpy as np\n",
      "m.data['x'] = np.arange(10)\n",
      "m.data['Y'] = m.data['x'] + 0.5 + np.random.rand(10)"
     ],
     "language": "python",
     "metadata": {},
     "outputs": [],
     "prompt_number": 5
    },
    {
     "cell_type": "heading",
     "level": 3,
     "metadata": {},
     "source": [
      "Set initial parameter values"
     ]
    },
    {
     "cell_type": "code",
     "collapsed": false,
     "input": [
      "m.init['alpha'] = 0.\n",
      "m.init['Beta'] = 0.\n",
      "m.init['logSigma'] = 0."
     ],
     "language": "python",
     "metadata": {},
     "outputs": [],
     "prompt_number": 6
    },
    {
     "cell_type": "heading",
     "level": 3,
     "metadata": {},
     "source": [
      "Set random parameters"
     ]
    },
    {
     "cell_type": "markdown",
     "metadata": {},
     "source": [
      "The model likelihood will be integrated wrt the random parameters. See [here](https://github.com/kaskr/adcomp/wiki/Tutorial#integrated-likelihood) for more information."
     ]
    },
    {
     "cell_type": "code",
     "collapsed": false,
     "input": [
      "m.random = ['alpha', 'Beta']"
     ],
     "language": "python",
     "metadata": {},
     "outputs": [],
     "prompt_number": 7
    },
    {
     "cell_type": "heading",
     "level": 3,
     "metadata": {},
     "source": [
      "Fit the model"
     ]
    },
    {
     "cell_type": "code",
     "collapsed": false,
     "input": [
      "m.optimize()"
     ],
     "language": "python",
     "metadata": {},
     "outputs": [
      {
       "output_type": "stream",
       "stream": "stdout",
       "text": [
        "iter: 1  value: 9.618947 mgc: 327.9179 ustep: 1 \n",
        "iter: 2  mgc: 2.797762e-14 \n",
        "iter: 1  mgc: 2.797762e-14 \n",
        "Matching hessian patterns... Done\n",
        "outer mgc:  7.140877 \n",
        "iter: 1  mgc: 2.104983e-13 \n",
        "iter: 1  mgc: 2.104983e-13 \n",
        "outer mgc:  1.651893 \n",
        "iter: 1  mgc: 3.703704e-13 \n",
        "iter: 1  mgc: 2.566836e-13 \n",
        "iter: 1  mgc: 2.566836e-13 \n",
        "outer mgc:  0.1627763 \n",
        "iter: 1  mgc: 2.566836e-13 \n",
        "iter: 1  mgc: 2.566836e-13 \n",
        "outer mgc:  0.01984795 \n",
        "iter: 1  mgc: 2.580158e-13 \n",
        "iter: 1  mgc: 2.580158e-13 \n",
        "outer mgc:  0.0002043639 \n",
        "iter: 1  mgc: 2.553513e-13 \n",
        "iter: 1  mgc: 2.553513e-13 \n",
        "outer mgc: "
       ]
      },
      {
       "output_type": "stream",
       "stream": "stdout",
       "text": [
        " 2.530986e-07 \n",
        "iter: 1  mgc: 2.4869e-13 \n",
        "iter: 1  mgc: 2.4869e-13 \n",
        "outer mgc:  3.235856e-12 \n",
        "iter: 1  mgc: 2.4869e-13 \n",
        "\n",
        "Model optimization complete in 0.1s.\n",
        "\n",
        "\n",
        "--------------------------------------------------------------------------------\n",
        "\n",
        "iter: 1  mgc: 2.4869e-13 \n",
        "outer mgc:  3.235856e-12 \n",
        "iter: 1  mgc: 2.633449e-13 \n",
        "outer mgc:  0.01598401 \n",
        "iter: 1  mgc: 2.606804e-13 \n",
        "outer mgc:  0.01601601 \n",
        "\n",
        "Simulated 100 draws in 0.2s.\n"
       ]
      },
      {
       "output_type": "stream",
       "stream": "stdout",
       "text": [
        "\n",
        "alpha:\n",
        "\tmean\t[ 0.93484804]\n",
        "\tsd\t[ 0.19260968]\n",
        "\tdraws\t[[ 0.84137591  1.06381489 ...,  0.97978633  0.96196277]]\n",
        "\tshape\t(1, 100)\n",
        "Beta:\n",
        "\tmean\t[ 1.00298141]\n",
        "\tsd\t[ 0.0360791]\n",
        "\tdraws\t[[ 1.03785315  0.96909651 ...,  0.98399896  1.01262166]]\n",
        "\tshape\t(1, 100)\n"
       ]
      }
     ],
     "prompt_number": 8
    },
    {
     "cell_type": "heading",
     "level": 3,
     "metadata": {},
     "source": [
      "Simulate parameters"
     ]
    },
    {
     "cell_type": "heading",
     "level": 4,
     "metadata": {},
     "source": [
      "Imports"
     ]
    },
    {
     "cell_type": "code",
     "collapsed": false,
     "input": [
      "import scipy.sparse.linalg\n",
      "import scikits.sparse.cholmod\n",
      "from scipy.sparse import csc_matrix\n",
      "import numpy as np\n",
      "from PyMB import get_R_attr\n",
      "r = m.R.r"
     ],
     "language": "python",
     "metadata": {},
     "outputs": [],
     "prompt_number": 9
    },
    {
     "cell_type": "heading",
     "level": 4,
     "metadata": {},
     "source": [
      "Means $\\mu$"
     ]
    },
    {
     "cell_type": "code",
     "collapsed": false,
     "input": [
      "R_mu = get_R_attr(m.sdreport, 'par.random')\n",
      "py_mu = np.array(R_mu)"
     ],
     "language": "python",
     "metadata": {},
     "outputs": [],
     "prompt_number": 10
    },
    {
     "cell_type": "heading",
     "level": 4,
     "metadata": {},
     "source": [
      "Joint precision $\\Sigma^{-1}$"
     ]
    },
    {
     "cell_type": "code",
     "collapsed": false,
     "input": [
      "joint_prec_full = get_R_attr(m.sdreport, 'jointPrecision')\n",
      "R_joint_prec = r('function(mat, ran) { ii <- rownames(mat) %in% ran; return(mat[ii,ii]) }')(joint_prec_full, m.random)\n",
      "py_joint_prec = np.array(r['as.matrix'](R_joint_prec))"
     ],
     "language": "python",
     "metadata": {},
     "outputs": [],
     "prompt_number": 11
    },
    {
     "cell_type": "heading",
     "level": 4,
     "metadata": {},
     "source": [
      "$z$"
     ]
    },
    {
     "cell_type": "code",
     "collapsed": false,
     "input": [
      "R_z = r['matrix'](r['rnorm'](100*py_mu.shape[0]), ncol=100)\n",
      "py_z = np.array(R_z)"
     ],
     "language": "python",
     "metadata": {},
     "outputs": [],
     "prompt_number": 12
    },
    {
     "cell_type": "heading",
     "level": 4,
     "metadata": {},
     "source": [
      "$\\mathrm{Chol}(\\Sigma^{-1})$"
     ]
    },
    {
     "cell_type": "code",
     "collapsed": false,
     "input": [
      "R_chol = r['Cholesky'](R_joint_prec)\n",
      "py_chol = scikits.sparse.cholmod.cholesky(csc_matrix(py_joint_prec))"
     ],
     "language": "python",
     "metadata": {},
     "outputs": [],
     "prompt_number": 14
    },
    {
     "cell_type": "heading",
     "level": 4,
     "metadata": {},
     "source": [
      "$L^{\\prime}z$"
     ]
    },
    {
     "cell_type": "heading",
     "level": 5,
     "metadata": {},
     "source": [
      "Note: would typically use scikits.sparse.cholmod.cholesky.solve_Lt, but there seems to be a bug there: https://github.com/njsmith/scikits-sparse/issues/9#issuecomment-76862652"
     ]
    },
    {
     "cell_type": "code",
     "collapsed": false,
     "input": [
      "R_Lz = r['solve'](r['t'](r['as'](R_chol, 'Matrix')), R_z)\n",
      "py_Lz = scipy.sparse.linalg.spsolve(py_chol.L().T, py_z)"
     ],
     "language": "python",
     "metadata": {},
     "outputs": [],
     "prompt_number": 16
    },
    {
     "cell_type": "heading",
     "level": 4,
     "metadata": {},
     "source": [
      "$PL^{\\prime}z$"
     ]
    },
    {
     "cell_type": "code",
     "collapsed": false,
     "input": [
      "R_PLz = r['solve'](r['as'](R_chol, 'pMatrix'), R_Lz)\n",
      "py_PLz = py_chol.apply_Pt(py_Lz)"
     ],
     "language": "python",
     "metadata": {},
     "outputs": [],
     "prompt_number": 17
    },
    {
     "cell_type": "heading",
     "level": 4,
     "metadata": {},
     "source": [
      "Draws"
     ]
    },
    {
     "cell_type": "code",
     "collapsed": false,
     "input": [
      "R_draws = r('function(mu,PLz) { return(mu + PLz) }')(R_mu, R_PLz)\n",
      "py_draws = py_mu.reshape([py_mu.shape[0],1]) + py_PLz"
     ],
     "language": "python",
     "metadata": {},
     "outputs": [],
     "prompt_number": 18
    },
    {
     "cell_type": "heading",
     "level": 4,
     "metadata": {},
     "source": [
      "Confirm equality"
     ]
    },
    {
     "cell_type": "code",
     "collapsed": false,
     "input": [
      "np.allclose(np.array(r['as.matrix'](R_draws)), py_draws)"
     ],
     "language": "python",
     "metadata": {},
     "outputs": [
      {
       "metadata": {},
       "output_type": "pyout",
       "prompt_number": 21,
       "text": [
        "True"
       ]
      }
     ],
     "prompt_number": 21
    }
   ],
   "metadata": {}
  }
 ]
}